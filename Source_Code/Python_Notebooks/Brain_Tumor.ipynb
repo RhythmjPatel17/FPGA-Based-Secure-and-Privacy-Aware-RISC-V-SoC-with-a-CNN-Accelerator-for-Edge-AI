{
 "cells": [
  {
   "cell_type": "markdown",
   "metadata": {},
   "source": [
    "# MedMNIST Classification with CNN\n",
    "This notebook loads the MedMNIST dataset, builds a CNN model, trains it, evaluates it, and saves the model."
   ]
  },
  {
   "cell_type": "code",
   "metadata": {},
   "source": [
    "import numpy as np\n",
    "import matplotlib.pyplot as plt\n",
    "import tensorflow as tf"
   ]
  },
  {
   "cell_type": "code",
   "metadata": {},
   "source": [
    "# Path to MedMNIST dataset\n",
    "path = \"/kaggle/input/medical-mnist\"\n",
    "\n",
    "# Load training dataset\n",
    "train_dataset = tf.keras.utils.image_dataset_from_directory(\n",
    "    path,\n",
    "    labels='inferred',\n",
    "    batch_size=64,\n",
    "    image_size=(32, 32),\n",
    "    color_mode='grayscale',\n",
    "    label_mode='int',\n",
    "    validation_split=0.2,\n",
    "    subset='training',\n",
    "    seed=42\n",
    ")\n",
    "\n",
    "# Load validation dataset\n",
    "val_dataset = tf.keras.utils.image_dataset_from_directory(\n",
    "    path,\n",
    "    labels='inferred',\n",
    "    batch_size=64,\n",
    "    image_size=(32, 32),\n",
    "    color_mode='grayscale',\n",
    "    label_mode='int',\n",
    "    validation_split=0.2,\n",
    "    subset='validation',\n",
    "    seed=42\n",
    ")\n",
    "\n",
    "# Optimize dataset performance\n",
    "train_dataset = train_dataset.cache().prefetch(tf.data.AUTOTUNE)\n",
    "val_dataset = val_dataset.cache().prefetch(tf.data.AUTOTUNE)"
   ]
  },
  {
   "cell_type": "code",
   "metadata": {},
   "source": [
    "# Class names mapping\n",
    "class_names = {\n",
    "    0: \"AbdomenCT\",\n",
    "    1: \"BreastMRI\",\n",
    "    2: \"CXR\",\n",
    "    3: \"ChestCT\",\n",
    "    4: \"Hand\",\n",
    "    5: \"HeadCT\"\n",
    "}\n",
    "\n",
    "# Visualize a random sample\n",
    "size = len(list(train_dataset.take(1).unbatch()))\n",
    "rand_index = np.random.randint(0, size-1)\n",
    "\n",
    "for img_train, label_train in train_dataset.take(1):\n",
    "    plt.imshow(img_train[rand_index], cmap='gray')\n",
    "    plt.title(f\"Label: {class_names[label_train[rand_index].numpy()]}\")\n",
    "    plt.axis('off')\n",
    "    plt.show()"
   ]
  },
  {
   "cell_type": "code",
   "metadata": {},
   "source": [
    "def build_CNN_Model():\n",
    "    inputs = tf.keras.layers.Input((32, 32, 1))\n",
    "    x = tf.keras.layers.Conv2D(32, (3,3), padding='same', activation='relu')(inputs)\n",
    "    x = tf.keras.layers.MaxPooling2D((2,2))(x)\n",
    "    \n",
    "    x = tf.keras.layers.Conv2D(64, (3,3), padding='same', activation='relu')(x)\n",
    "    x = tf.keras.layers.MaxPooling2D((2,2))(x)\n",
    "    \n",
    "    x = tf.keras.layers.Conv2D(128, (3,3), padding='same', activation='relu')(x)\n",
    "    x = tf.keras.layers.MaxPooling2D((2,2))(x)\n",
    "    \n",
    "    x = tf.keras.layers.Conv2D(256, (3,3), padding='same', activation='relu')(x)\n",
    "    x = tf.keras.layers.MaxPooling2D((2,2))(x)\n",
    "    \n",
    "    x = tf.keras.layers.Flatten()(x)\n",
    "    outputs = tf.keras.layers.Dense(6, activation='softmax')(x)\n",
    "    \n",
    "    return tf.keras.models.Model(inputs, outputs)\n",
    "\n",
    "model = build_CNN_Model()\n",
    "model.compile(optimizer='adam', loss='sparse_categorical_crossentropy', metrics=['accuracy'])\n",
    "model.summary()"
   ]
  },
  {
   "cell_type": "code",
   "metadata": {},
   "source": [
    "model.fit(\n",
    "    train_dataset,\n",
    "    validation_data=val_dataset,\n",
    "    epochs=10\n",
    ")"
   ]
  },
  {
   "cell_type": "code",
   "metadata": {},
   "source": [
    "loss, acc = model.evaluate(val_dataset)\n",
    "print(f\"Validation Accuracy: {acc:.4f}, Loss: {loss:.4f}\")"
   ]
  },
  {
   "cell_type": "code",
   "metadata": {},
   "source": [
    "model.save(\"Medical_Image_Classification.keras\")"
   ]
  }
 ],
 "metadata": {
  "kernelspec": {
   "name": "python3",
   "display_name": "Python 3"
  },
  "language_info": {
   "name": "python",
   "version": "3.10"
  }
 },
 "nbformat": 4,
 "nbformat_minor": 5
}
